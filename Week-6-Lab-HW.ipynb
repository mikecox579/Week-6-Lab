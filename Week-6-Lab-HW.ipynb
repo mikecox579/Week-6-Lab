{
 "cells": [
  {
   "cell_type": "code",
   "execution_count": 1,
   "metadata": {},
   "outputs": [
    {
     "name": "stdin",
     "output_type": "stream",
     "text": [
      "What is your name? mike\n",
      "How old are you? 18\n",
      "What is your date of birth? (MM/DD/YYYY) 03/13/2002\n"
     ]
    },
    {
     "name": "stdout",
     "output_type": "stream",
     "text": [
      "Hello mike! You are 18 years old and you will turn 19 on March 13\n"
     ]
    }
   ],
   "source": [
    "name = input(\"What is your name?\")\n",
    "age = input(\"How old are you?\")\n",
    "dob = input(\"What is your date of birth? (MM/DD/YYYY)\")\n",
    "months = ['January', 'February', 'March', 'April', 'May', 'June',\n",
    "         'July', 'August', 'September', 'October', 'November',\n",
    "         'December']\n",
    "month = dob.split('/')[0]\n",
    "day = dob.split('/')[1]\n",
    "year = dob.split('/')[2]\n",
    "try:\n",
    "    month = months[int(month) - 1]\n",
    "    bday = str(month + ' ' + day)\n",
    "    print(\"Hello \" + name + \"! You are \" + age + \" years old and you will turn \" + str(int(age) + 1) + \" on \" + bday)\n",
    "except:\n",
    "    print(\"Please rerun the program and enter a valid dob with the correct format\")"
   ]
  },
  {
   "cell_type": "code",
   "execution_count": null,
   "metadata": {},
   "outputs": [],
   "source": []
  }
 ],
 "metadata": {
  "kernelspec": {
   "display_name": "Python 3",
   "language": "python",
   "name": "python3"
  },
  "language_info": {
   "codemirror_mode": {
    "name": "ipython",
    "version": 3
   },
   "file_extension": ".py",
   "mimetype": "text/x-python",
   "name": "python",
   "nbconvert_exporter": "python",
   "pygments_lexer": "ipython3",
   "version": "3.8.3"
  }
 },
 "nbformat": 4,
 "nbformat_minor": 4
}
